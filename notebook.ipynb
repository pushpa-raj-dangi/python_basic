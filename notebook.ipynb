{
 "cells": [
  {
   "cell_type": "code",
   "execution_count": 6,
   "metadata": {},
   "outputs": [
    {
     "name": "stdout",
     "output_type": "stream",
     "text": [
      "hello pushpa\n",
      "no of items No of items ,  2\n",
      "Number are \n"
     ]
    }
   ],
   "source": [
    "#python string \n",
    "name  = \"pushpa\"\n",
    "print(f\"hello {name}\")\n",
    "\n",
    "#type checking\n",
    "type(name)\n",
    "\n",
    "number = 1\n",
    "type(number)\n",
    "\n",
    "str1 = 'No of items'\n",
    "num1 = 2\n",
    "str1 + \"\" + str(num1)\n",
    "\n",
    "item = f\"no of items {str1} ,  {num1}\"\n",
    "print(item)\n",
    "\n",
    "\n",
    "no_of_item = \"Number are \".format(str(number))\n",
    "print(no_of_item)\n",
    "\n",
    "\n"
   ]
  },
  {
   "cell_type": "code",
   "execution_count": 7,
   "metadata": {},
   "outputs": [
    {
     "name": "stdout",
     "output_type": "stream",
     "text": [
      "Hello ram your age is Kathmandu Nepal and your address is 303 \n",
      "Hello your age is 303 and your address is Kathmandu Nepal\n"
     ]
    }
   ],
   "source": [
    "#working with number and string\n",
    "age =303\n",
    "name = \"ram\"\n",
    "address = \"Kathmandu Nepal\"\n",
    "str1 = f\"Hello your age is {age} and your address is {address}\"\n",
    "\n",
    "formated = \"Hello {0} your age is {2} and your address is {1} \".format(name,str(age),address)\n",
    "print(formated)\n",
    "print(str1)\n"
   ]
  },
  {
   "cell_type": "code",
   "execution_count": 8,
   "metadata": {},
   "outputs": [
    {
     "name": "stdout",
     "output_type": "stream",
     "text": [
      "1\n",
      "2\n",
      "3\n",
      "4\n",
      "5\n",
      "5\n"
     ]
    }
   ],
   "source": [
    "#iterate number using for loop\n",
    "numbers = [1,2,3,4,5,5]\n",
    "\n",
    "for number in numbers:\n",
    "    print(number)"
   ]
  },
  {
   "cell_type": "code",
   "execution_count": 9,
   "metadata": {},
   "outputs": [
    {
     "name": "stdout",
     "output_type": "stream",
     "text": [
      "\n",
      "This is long \n",
      "long \n",
      "long\n",
      "long\n",
      "long\n",
      "string\n",
      "\n",
      "\n"
     ]
    }
   ],
   "source": [
    "#break line in python \n",
    "long_str = \"\"\"\n",
    "This is long \n",
    "long \n",
    "long\n",
    "long\n",
    "long\n",
    "string\n",
    "\n",
    "\"\"\"\n",
    "\n",
    "print(long_str)"
   ]
  },
  {
   "cell_type": "code",
   "execution_count": 10,
   "metadata": {},
   "outputs": [
    {
     "name": "stdout",
     "output_type": "stream",
     "text": [
      "40\n"
     ]
    }
   ],
   "source": [
    "#working with number\n",
    "num1 =10\n",
    "num2 = 30\n",
    "print(num1+num2)"
   ]
  },
  {
   "cell_type": "code",
   "execution_count": 11,
   "metadata": {},
   "outputs": [
    {
     "name": "stdout",
     "output_type": "stream",
     "text": [
      "# is for comment\n"
     ]
    }
   ],
   "source": [
    "#This is comment\n",
    "print(\"# is for comment\")"
   ]
  },
  {
   "cell_type": "code",
   "execution_count": 12,
   "metadata": {},
   "outputs": [
    {
     "name": "stdout",
     "output_type": "stream",
     "text": [
      "hello\n"
     ]
    }
   ],
   "source": [
    "#variable\n",
    "x =10\n",
    "x = 1.4\n",
    "x = \"hello\"\n",
    "\n",
    "print(x)"
   ]
  },
  {
   "cell_type": "code",
   "execution_count": 13,
   "metadata": {},
   "outputs": [
    {
     "name": "stdout",
     "output_type": "stream",
     "text": [
      "Result 8\n"
     ]
    }
   ],
   "source": [
    "#divide number in python\n",
    "num1 = 33\n",
    "num2 = 4\n",
    "\n",
    "print(f\"Result { num1 // num2}\")"
   ]
  },
  {
   "cell_type": "code",
   "execution_count": 14,
   "metadata": {},
   "outputs": [
    {
     "name": "stdout",
     "output_type": "stream",
     "text": [
      "[1, 3, 4, 5, 5, 6, 343]\n",
      "(1, 2, 3, 4, 5, 5, 6, 6, 'ram')\n",
      "<built-in method count of tuple object at 0x000001629CC60970>\n",
      "pushpa\n",
      "It remove the duplicate data {1, 2, 3, 4, 5}\n",
      "{'name': 'ram', 'address': 'kathmandu'}\n",
      "{'fruits': 'apple', 'vegatable': 'carrot'}\n"
     ]
    }
   ],
   "source": [
    "#data structure in python\n",
    "#lists\n",
    "#lists \n",
    "#tuples\n",
    "#set\n",
    "#dictionery\n",
    "\n",
    "#list (mutable)\n",
    "numbers = [1,3,4,5,5,6]\n",
    "numbers.append(343)\n",
    "\n",
    "print(numbers)\n",
    "\n",
    "#tuples (tuples are immutable)\n",
    "tupl = (1,2,3,4,5,5,6,6, 'ram')\n",
    "print(tupl)\n",
    "print(tupl.count)\n",
    "# tupl[0] =10;\n",
    "#print(tupl) #throw error object does not support assignment\n",
    "\n",
    "#dictionery\n",
    "person = {\"name\":\"pushpa\",\"address\":\"Kathmandu\"}\n",
    "\n",
    "print(person['name'])\n",
    "\n",
    "#sets(duplicate is not allowed)\n",
    "set1 = [1,2,3,4,4,5,5]\n",
    "set2 = set(set1)\n",
    "print(f\"It remove the duplicate data {set2}\")\n",
    "\n",
    "student = {'name':'ram','address':'kathmandu'}\n",
    "print(student)\n",
    "\n",
    "\n",
    "dict1 = {}\n",
    "dict1['fruits'] = 'apple'\n",
    "dict1 ['vegatable'] = 'carrot'\n",
    "print(dict1)\n",
    "\n"
   ]
  },
  {
   "cell_type": "code",
   "execution_count": 15,
   "metadata": {},
   "outputs": [
    {
     "name": "stdout",
     "output_type": "stream",
     "text": [
      "True\n",
      "True\n",
      "Number is greater than 1\n",
      "all code are executed\n"
     ]
    }
   ],
   "source": [
    "#conditional statement\n",
    "if 5==5:\n",
    "    print(True)\n",
    "\n",
    "age = 18\n",
    "fee = 2000\n",
    "isEligible = age >= 18 and fee == 2000\n",
    "\n",
    "if isEligible:\n",
    "    print(isEligible)\n",
    "\n",
    "num = 10\n",
    "if num >1:\n",
    "    print(\"Number is greater than 1\")\n",
    "\n",
    "elif num < 2:\n",
    "    print(\"number is less then\")\n",
    "else:\n",
    "    print(\"not greater\")\n",
    "\n",
    "print(\"all code are executed\")"
   ]
  },
  {
   "cell_type": "code",
   "execution_count": 16,
   "metadata": {},
   "outputs": [
    {
     "name": "stdout",
     "output_type": "stream",
     "text": [
      "1\n",
      "3\n",
      "5\n",
      "7\n",
      "9\n"
     ]
    }
   ],
   "source": [
    "#for loop\n",
    "for num in range(1,10,2):\n",
    "    print(num)\n"
   ]
  },
  {
   "cell_type": "code",
   "execution_count": 17,
   "metadata": {},
   "outputs": [
    {
     "name": "stdout",
     "output_type": "stream",
     "text": [
      "1\n",
      "2\n",
      "3\n",
      "4\n",
      "5\n",
      "6\n",
      "7\n",
      "78\n"
     ]
    }
   ],
   "source": [
    "#iterate list\n",
    "nums = [1,2,3,4,5,6,7,78]\n",
    "\n",
    "for num in nums:\n",
    "    print(num)"
   ]
  },
  {
   "cell_type": "code",
   "execution_count": 18,
   "metadata": {},
   "outputs": [
    {
     "name": "stdout",
     "output_type": "stream",
     "text": [
      "10\n",
      "9\n",
      "8\n",
      "7\n",
      "6\n"
     ]
    }
   ],
   "source": [
    "#decrement loop \n",
    "for x in range(10,5,-1):\n",
    "    print(x)"
   ]
  },
  {
   "cell_type": "code",
   "execution_count": 19,
   "metadata": {},
   "outputs": [
    {
     "name": "stdout",
     "output_type": "stream",
     "text": [
      "error\n",
      "index out of bound\n"
     ]
    }
   ],
   "source": [
    "#exception handling\n",
    "\n",
    "# div1 = 1/0\n",
    "# print(div1)\n",
    "#Throw ZeroDivisionError\n",
    "\n",
    "try:\n",
    "    div = 1/0\n",
    "except ZeroDivisionError:\n",
    "    print('error')\n",
    "\n",
    "# arr1 = [1,2]\n",
    "# print(arr1[2])\n",
    "#throw IndexError\n",
    "\n",
    "#handle index error\n",
    "try:\n",
    "    arr1 = [1,2]\n",
    "    print(arr1[2])\n",
    "except:\n",
    "    print(\"index out of bound\")\n",
    "    "
   ]
  },
  {
   "cell_type": "code",
   "execution_count": 20,
   "metadata": {},
   "outputs": [
    {
     "name": "stdout",
     "output_type": "stream",
     "text": [
      "Divide by zero exception division by zero\n",
      "at last\n"
     ]
    }
   ],
   "source": [
    "#multiple exception handle\n",
    "\n",
    "try:\n",
    "    div1 = 5/0\n",
    "    arr1 = [1,2]\n",
    "    print(arr1[12])\n",
    "except ZeroDivisionError as e:\n",
    "    print(f\"Divide by zero exception {e}\")\n",
    "except IndexError:\n",
    "    print(\"index out of bound\")\n",
    "finally:\n",
    "    print(\"at last\")"
   ]
  },
  {
   "cell_type": "code",
   "execution_count": 24,
   "metadata": {},
   "outputs": [
    {
     "name": "stdout",
     "output_type": "stream",
     "text": [
      "9\n",
      "6\n",
      "(1, 2, 3, 4, 5)\n",
      "1\n",
      "()\n",
      "1\n",
      "(2, 3)\n"
     ]
    }
   ],
   "source": [
    "#functio\n",
    "\n",
    "def add(a,b):\n",
    "    return a+b;\n",
    "\n",
    "print(add(4,5))\n",
    "\n",
    "def add(a,b,c):\n",
    "    return a+b+c\n",
    "\n",
    "print(add(1,2,3))\n"
   ]
  },
  {
   "cell_type": "code",
   "execution_count": 27,
   "metadata": {},
   "outputs": [
    {
     "name": "stdout",
     "output_type": "stream",
     "text": [
      "(1, 2, 3, 4, 5)\n",
      "1\n",
      "()\n",
      "1\n",
      "(2, 3)\n"
     ]
    }
   ],
   "source": [
    "#args\n",
    "def sum(*args):\n",
    "    print(args)\n",
    "sum(1,2,3,4,5)\n",
    "\n",
    "def add(a,*args):\n",
    "    print(a)\n",
    "    print(args)\n",
    "add(1)\n",
    "add(1,2,3)"
   ]
  },
  {
   "cell_type": "code",
   "execution_count": 28,
   "metadata": {},
   "outputs": [
    {
     "name": "stdout",
     "output_type": "stream",
     "text": [
      "1\n",
      "(2,)\n",
      "{'another': 10}\n",
      "1\n",
      "(2, 3)\n",
      "{}\n"
     ]
    }
   ],
   "source": [
    "#kwargs parameter\n",
    "def add(num1,*args, **kwargs):\n",
    "    print(num1)\n",
    "    print(args)\n",
    "    print(kwargs)\n",
    "add(1,2,another=10)\n",
    "add(1,2,3)"
   ]
  },
  {
   "cell_type": "code",
   "execution_count": 40,
   "metadata": {},
   "outputs": [
    {
     "name": "stdout",
     "output_type": "stream",
     "text": [
      "35\n",
      "33\n"
     ]
    }
   ],
   "source": [
    "#function passing default value \n",
    "\n",
    "def add(num1, num2=3):\n",
    "    print(num1+num2)\n",
    "add(32)\n",
    "add(1,32)"
   ]
  },
  {
   "cell_type": "code",
   "execution_count": 77,
   "metadata": {},
   "outputs": [
    {
     "name": "stdout",
     "output_type": "stream",
     "text": [
      "30414093201713378043612608166064768844377641568960512000000000000\n"
     ]
    }
   ],
   "source": [
    "#factroial\n",
    "\n",
    "def fact(num):\n",
    "    if num == 0 or num==1:\n",
    "        return 1\n",
    "    return num * fact(num-1)\n",
    "    \n",
    "print(fact(5))"
   ]
  }
 ],
 "metadata": {
  "interpreter": {
   "hash": "a534336a2847ad168f6ad08c07bf34f3afa3b42a3b2e0acc04ae42ce2da51ac0"
  },
  "kernelspec": {
   "display_name": "Python 3.10.1 64-bit",
   "language": "python",
   "name": "python3"
  },
  "language_info": {
   "codemirror_mode": {
    "name": "ipython",
    "version": 3
   },
   "file_extension": ".py",
   "mimetype": "text/x-python",
   "name": "python",
   "nbconvert_exporter": "python",
   "pygments_lexer": "ipython3",
   "version": "3.10.1"
  },
  "orig_nbformat": 4
 },
 "nbformat": 4,
 "nbformat_minor": 2
}
